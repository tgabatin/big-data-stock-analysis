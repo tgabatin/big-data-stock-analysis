{
 "cells": [
  {
   "cell_type": "markdown",
   "id": "58273786",
   "metadata": {},
   "source": [
    "## Data Retrieval\n",
    "We pulled our data either directly from Yahoo Finance or are using a dataset that was populated using Yahoo finance. We are using the yahoo-finance package for python, version 1.4.0, available at: https://pypi.org/project/yahoo-finance/.\n",
    "The data we are working with will be cut to December 2019 to avoid the impact of Covid-19. \n",
    "Data can be updated using script below with period indicating retrieval past. "
   ]
  },
  {
   "cell_type": "markdown",
   "id": "01f190d6",
   "metadata": {},
   "source": [
    "## Configuration"
   ]
  },
  {
   "cell_type": "code",
   "execution_count": null,
   "id": "5d775238",
   "metadata": {},
   "outputs": [],
   "source": [
    "offset = 0\n",
    "limit = 3000\n",
    "period = 'max' # valid periods: 1d,5d,1mo,3mo,6mo,1y,2y,5y,10y,ytd,max"
   ]
  },
  {
   "cell_type": "markdown",
   "id": "70e52fa5",
   "metadata": {},
   "source": [
    "## Download all NASDAQ traded symbols"
   ]
  },
  {
   "cell_type": "code",
   "execution_count": null,
   "id": "cce0d5dc",
   "metadata": {},
   "outputs": [],
   "source": [
    "import pandas as pd\n",
    "\n",
    "data = pd.read_csv(\"http://www.nasdaqtrader.com/dynamic/SymDir/nasdaqtraded.txt\", sep='|')\n",
    "data_clean = data[data['Test Issue'] == 'N']\n",
    "symbols = data_clean['NASDAQ Symbol'].tolist()\n",
    "print('total number of symbols traded = {}'.format(len(symbols)))"
   ]
  },
  {
   "cell_type": "markdown",
   "id": "1a78f682",
   "metadata": {},
   "source": [
    "## Download Historic Data"
   ]
  },
  {
   "cell_type": "code",
   "execution_count": null,
   "id": "0709cd31",
   "metadata": {},
   "outputs": [],
   "source": [
    "! pip install yfinance > /dev/null 2>&1\n",
    "! mkdir hist"
   ]
  },
  {
   "cell_type": "code",
   "execution_count": null,
   "id": "cfa8e645",
   "metadata": {},
   "outputs": [],
   "source": [
    "import yfinance as yf\n",
    "import os, contextlib"
   ]
  },
  {
   "cell_type": "code",
   "execution_count": null,
   "id": "9f073d3f",
   "metadata": {},
   "outputs": [],
   "source": [
    "%%time\n",
    "\n",
    "limit = limit if limit else len(symbols)\n",
    "end = min(offset + limit, len(symbols))\n",
    "is_valid = [False] * len(symbols)\n",
    "# force silencing of verbose API\n",
    "with open(os.devnull, 'w') as devnull:\n",
    "    with contextlib.redirect_stdout(devnull):\n",
    "        for i in range(offset, end):\n",
    "            s = symbols[i]\n",
    "            data = yf.download(s, period=period)\n",
    "            if len(data.index) == 0:\n",
    "                continue\n",
    "        \n",
    "            is_valid[i] = True\n",
    "            data.to_csv('hist/{}.csv'.format(s))\n",
    "\n",
    "print('Total number of valid symbols downloaded = {}'.format(sum(is_valid)))"
   ]
  },
  {
   "cell_type": "code",
   "execution_count": null,
   "id": "009534c6",
   "metadata": {},
   "outputs": [],
   "source": [
    "valid_data = data_clean[is_valid]\n",
    "valid_data.to_csv('symbols_valid_meta.csv', index=False)"
   ]
  },
  {
   "cell_type": "markdown",
   "id": "53f432b8",
   "metadata": {},
   "source": [
    "## Split Etfs and Stocks"
   ]
  },
  {
   "cell_type": "code",
   "execution_count": null,
   "id": "cface333",
   "metadata": {},
   "outputs": [],
   "source": [
    "!mkdir stocks\n",
    "!mkdir etfs"
   ]
  },
  {
   "cell_type": "code",
   "execution_count": null,
   "id": "bd0056df",
   "metadata": {},
   "outputs": [],
   "source": [
    "etfs = valid_data[valid_data['ETF'] == 'Y']['NASDAQ Symbol'].tolist()\n",
    "stocks = valid_data[valid_data['ETF'] == 'N']['NASDAQ Symbol'].tolist()"
   ]
  },
  {
   "cell_type": "code",
   "execution_count": null,
   "id": "42377c7c",
   "metadata": {},
   "outputs": [],
   "source": [
    "import shutil\n",
    "from os.path import isfile, join\n",
    "\n",
    "def move_symbols(symbols, dest):\n",
    "    for s in symbols:\n",
    "        filename = '{}.csv'.format(s)\n",
    "        shutil.move(join('hist', filename), join(dest, filename))\n",
    "        \n",
    "move_symbols(etfs, \"etfs\")\n",
    "move_symbols(stocks, \"stocks\")"
   ]
  },
  {
   "cell_type": "code",
   "execution_count": null,
   "id": "4d9e74a7",
   "metadata": {},
   "outputs": [],
   "source": [
    "! rmdir hist"
   ]
  }
 ],
 "metadata": {
  "kernelspec": {
   "display_name": "Python 3 (ipykernel)",
   "language": "python",
   "name": "python3"
  },
  "language_info": {
   "codemirror_mode": {
    "name": "ipython",
    "version": 3
   },
   "file_extension": ".py",
   "mimetype": "text/x-python",
   "name": "python",
   "nbconvert_exporter": "python",
   "pygments_lexer": "ipython3",
   "version": "3.9.7"
  }
 },
 "nbformat": 4,
 "nbformat_minor": 5
}
