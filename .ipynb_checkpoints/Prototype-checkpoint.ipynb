{
 "cells": [
  {
   "cell_type": "markdown",
   "metadata": {},
   "source": [
    "# Prototype Of Stock Sets"
   ]
  },
  {
   "cell_type": "markdown",
   "metadata": {},
   "source": [
    "This notebook will serve as a small analyzing of a set of stocks to determine whether this data is scalable. At a minimum, 5 - 10 stocks are selected, and will be prototyped in order to apply to a larger dataset. \n",
    "\n",
    "The stocks that are chosen for this particular prototype are the top 10 stocks across the years 2010-2020. "
   ]
  },
  {
   "cell_type": "code",
   "execution_count": 4,
   "metadata": {},
   "outputs": [
    {
     "name": "stdout",
     "output_type": "stream",
     "text": [
      "Done importing\n"
     ]
    }
   ],
   "source": [
    "# If you wish to install the modules needed, here are a list of the installations\n",
    "#!pip install pandas\n",
    "#!pip install pandas_datareader\n",
    "\n",
    "# Import Statements\n",
    "import pandas as pd\n",
    "from pandas import DataFrame\n",
    "import pandas_datareader.data as web\n",
    "import numpy as np\n",
    "\n",
    "# For graphing purposes\n",
    "import math\n",
    "import matplotlib.pyplot as plt\n",
    "import matplotlib.dates as mdates\n",
    "from matplotlib import style\n",
    "\n",
    "# For styling\n",
    "import datetime as dt\n",
    "import os\n",
    "\n",
    "# Imports for collections\n",
    "import collections\n",
    "from collections import Counter\n",
    "\n",
    "# Imports for Machine Learning\n",
    "import sklearn\n",
    "from sklearn.model_selection import train_test_split\n",
    "\n",
    "print(\"Done importing\")"
   ]
  },
  {
   "cell_type": "markdown",
   "metadata": {},
   "source": [
    "# Stock Analysis\n",
    "\n",
    "The important segment of understanding stock analysis is to run a regression on the years where no significant events may have caused any problems to arise. An example of this would be years where there may have been political fluctuations where there is a cause for the stock market to be affected. \n",
    "\n",
    "For the purposes of this study, the dates of 2000 - 2005 are analyzed, since no significant event on a sector of the stocks may have been affected. "
   ]
  },
  {
   "cell_type": "code",
   "execution_count": 8,
   "metadata": {},
   "outputs": [
    {
     "name": "stdout",
     "output_type": "stream",
     "text": [
      "                High       Low      Open     Close       Volume  Adj Close\n",
      "Date                                                                      \n",
      "2000-01-03  1.004464  0.907924  0.936384  0.999442  535796800.0   0.856887\n",
      "2000-01-04  0.987723  0.903460  0.966518  0.915179  512377600.0   0.784643\n",
      "2000-01-05  0.987165  0.919643  0.926339  0.928571  778321600.0   0.796124\n",
      "2000-01-06  0.955357  0.848214  0.947545  0.848214  767972800.0   0.727229\n",
      "2000-01-07  0.901786  0.852679  0.861607  0.888393  460734400.0   0.761677\n",
      "...              ...       ...       ...       ...          ...        ...\n",
      "2004-12-27  1.163393  1.122857  1.157143  1.127857  559490400.0   0.966985\n",
      "2004-12-28  1.147321  1.108036  1.130357  1.146071  611755200.0   0.982601\n",
      "2004-12-29  1.160357  1.135179  1.139464  1.150714  449562400.0   0.986582\n",
      "2004-12-30  1.161250  1.146786  1.157321  1.157143  345340800.0   0.992094\n",
      "2004-12-31  1.160714  1.143393  1.158750  1.150000  278588800.0   0.985970\n",
      "\n",
      "[1256 rows x 6 columns]\n"
     ]
    }
   ],
   "source": [
    "# Usage of the Stock Market Data\n",
    "start = dt.datetime(2000, 1, 1) # First of the 5 year increment\n",
    "end = dt.datetime(2005, 1, 1) # Second of the 5 year increment\n",
    "df = web.DataReader('AAPL', 'yahoo', start, end)\n",
    "print(df)"
   ]
  },
  {
   "cell_type": "code",
   "execution_count": null,
   "metadata": {},
   "outputs": [],
   "source": [
    "# Classify top stocks from 2000 - 2005\n",
    "\n",
    "# Verification into different sectors\n",
    "\n",
    "# Classify top stocks from 2012-2017"
   ]
  }
 ],
 "metadata": {
  "kernelspec": {
   "display_name": "Python 3 (ipykernel)",
   "language": "python",
   "name": "python3"
  },
  "language_info": {
   "codemirror_mode": {
    "name": "ipython",
    "version": 3
   },
   "file_extension": ".py",
   "mimetype": "text/x-python",
   "name": "python",
   "nbconvert_exporter": "python",
   "pygments_lexer": "ipython3",
   "version": "3.9.7"
  }
 },
 "nbformat": 4,
 "nbformat_minor": 4
}
