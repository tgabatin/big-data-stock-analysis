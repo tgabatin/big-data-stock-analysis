{
 "cells": [
  {
   "cell_type": "markdown",
   "metadata": {},
   "source": [
    "# Prototype Of Stock Sets"
   ]
  },
  {
   "cell_type": "markdown",
   "metadata": {},
   "source": [
    "This notebook will serve as a small analyzing of a set of stocks to determine whether this data is scalable. At a minimum, 5 - 10 stocks are selected, and will be prototyped in order to apply to a larger dataset. \n",
    "\n",
    "The stocks that are chosen for this particular prototype are the top 10 stocks across the years 2010-2020. "
   ]
  },
  {
   "cell_type": "code",
   "execution_count": 5,
   "metadata": {},
   "outputs": [
    {
     "name": "stdout",
     "output_type": "stream",
     "text": [
      "Done importing\n"
     ]
    }
   ],
   "source": [
    "# If you wish to install the modules needed, here are a list of the installations\n",
    "#!pip install pandas\n",
    "#!pip install pandas_datareader\n",
    "\n",
    "# Import Statements\n",
    "import pandas as pd\n",
    "from pandas import DataFrame\n",
    "import pandas_datareader.data as web\n",
    "import numpy as np\n",
    "import scipy as sp\n",
    "\n",
    "# For graphing purposes\n",
    "import math\n",
    "import matplotlib.pyplot as plt\n",
    "import matplotlib.dates as mdates\n",
    "from matplotlib import style\n",
    "\n",
    "# For styling\n",
    "import datetime as dt\n",
    "import os\n",
    "\n",
    "# Imports for collections\n",
    "import collections\n",
    "from collections import Counter\n",
    "\n",
    "# Imports for Machine Learning\n",
    "import sklearn\n",
    "from sklearn.model_selection import train_test_split\n",
    "\n",
    "print(\"Done importing\")"
   ]
  },
  {
   "cell_type": "markdown",
   "metadata": {},
   "source": [
    "# Stock Analysis\n",
    "\n",
    "The important segment of understanding stock analysis is to run a regression on the years where no significant events may have caused any problems to arise. An example of this would be years where there may have been political fluctuations where there is a cause for the stock market to be affected. \n",
    "\n",
    "For the purposes of this study, the dates of 2000 - 2005 are analyzed, since no significant event on a sector of the stocks may have been affected. "
   ]
  },
  {
   "cell_type": "code",
   "execution_count": 11,
   "metadata": {},
   "outputs": [
    {
     "name": "stdout",
     "output_type": "stream",
     "text": [
      "                High       Low      Open     Close       Volume  Adj Close\n",
      "Date                                                                      \n",
      "2000-01-03  1.004464  0.907924  0.936384  0.999442  535796800.0   0.856887\n",
      "2000-01-04  0.987723  0.903460  0.966518  0.915179  512377600.0   0.784642\n",
      "2000-01-05  0.987165  0.919643  0.926339  0.928571  778321600.0   0.796124\n",
      "2000-01-06  0.955357  0.848214  0.947545  0.848214  767972800.0   0.727229\n",
      "2000-01-07  0.901786  0.852679  0.861607  0.888393  460734400.0   0.761677\n",
      "...              ...       ...       ...       ...          ...        ...\n",
      "2004-12-27  1.163393  1.122857  1.157143  1.127857  559490400.0   0.966985\n",
      "2004-12-28  1.147321  1.108036  1.130357  1.146071  611755200.0   0.982601\n",
      "2004-12-29  1.160357  1.135179  1.139464  1.150714  449562400.0   0.986582\n",
      "2004-12-30  1.161250  1.146786  1.157321  1.157143  345340800.0   0.992094\n",
      "2004-12-31  1.160714  1.143393  1.158750  1.150000  278588800.0   0.985970\n",
      "\n",
      "[1256 rows x 6 columns]\n",
      "                High       Low      Open     Close      Volume  Adj Close\n",
      "Date                                                                     \n",
      "2000-01-03  0.992188  0.919271  0.984375  0.975260  30091200.0   0.895884\n",
      "2000-01-04  0.960938  0.901042  0.958333  0.949219  30048000.0   0.871962\n",
      "2000-01-05  0.937500  0.904948  0.921875  0.917969  18835200.0   0.843256\n",
      "2000-01-06  0.917969  0.822917  0.917969  0.858073  12048000.0   0.788235\n",
      "2000-01-07  0.881510  0.841146  0.854167  0.872396   7118400.0   0.801392\n",
      "...              ...       ...       ...       ...         ...        ...\n",
      "2004-12-27  1.957500  1.895833  1.949167  1.905833  30820800.0   1.750718\n",
      "2004-12-28  1.925000  1.888333  1.910000  1.895833  29161200.0   1.741532\n",
      "2004-12-29  1.935833  1.885000  1.890000  1.912500  29473200.0   1.756842\n",
      "2004-12-30  1.929167  1.896667  1.913333  1.905000  25981200.0   1.749953\n",
      "2004-12-31  1.973333  1.925000  1.932500  1.963333  57596400.0   1.803538\n",
      "\n",
      "[1256 rows x 6 columns]\n",
      "                 High        Low       Open      Close      Volume  Adj Close\n",
      "Date                                                                         \n",
      "2000-01-03  59.312500  56.000000  58.687500  58.281250  53228400.0  36.794224\n",
      "2000-01-04  58.562500  56.125000  56.781250  56.312500  54119000.0  35.551311\n",
      "2000-01-05  58.187500  54.687500  55.562500  56.906250  64059600.0  35.926155\n",
      "2000-01-06  56.937500  54.187500  56.093750  55.000000  54976600.0  34.722698\n",
      "2000-01-07  56.125000  53.656250  54.312500  55.718750  62013600.0  35.176449\n",
      "...               ...        ...        ...        ...         ...        ...\n",
      "2004-12-27  27.100000  26.820000  27.010000  26.850000  55958500.0  19.115870\n",
      "2004-12-28  27.030001  26.799999  26.850000  26.950001  55075900.0  19.187061\n",
      "2004-12-29  27.000000  26.820000  26.850000  26.900000  47594900.0  19.151461\n",
      "2004-12-30  26.940001  26.750000  26.889999  26.760000  48355400.0  19.051785\n",
      "2004-12-31  26.900000  26.680000  26.750000  26.719999  54959500.0  19.023308\n",
      "\n",
      "[1256 rows x 6 columns]\n",
      "                 High        Low       Open      Close    Volume  Adj Close\n",
      "Date                                                                       \n",
      "2000-01-03  89.562500  79.046875  81.500000  89.375000  16117600  89.375000\n",
      "2000-01-04  91.500000  81.750000  85.375000  81.937500  17487400  81.937500\n",
      "2000-01-05  75.125000  68.000000  70.500000  69.750000  38457400  69.750000\n",
      "2000-01-06  72.687500  64.000000  71.312500  65.562500  18752000  65.562500\n",
      "2000-01-07  70.500000  66.187500  67.000000  69.562500  10505400  69.562500\n",
      "...               ...        ...        ...        ...       ...        ...\n",
      "2004-12-27  42.930000  39.470001  39.520000  42.250000  22289200  42.250000\n",
      "2004-12-28  45.119999  43.500000  43.900002  44.630001  25237800  44.630001\n",
      "2004-12-29  45.680000  44.439999  44.750000  44.820000  11759200  44.820000\n",
      "2004-12-30  45.529999  44.549999  45.000000  44.970001   6965900  44.970001\n",
      "2004-12-31  45.490002  44.160000  45.130001  44.290001   4790700  44.290001\n",
      "\n",
      "[1256 rows x 6 columns]\n",
      "                  High        Low       Open      Close    Volume  Adj Close\n",
      "Date                                                                        \n",
      "2004-08-19   52.082081  48.028027  50.050049  50.220219  44659096  50.220219\n",
      "2004-08-20   54.594597  50.300301  50.555557  54.209209  22834343  54.209209\n",
      "2004-08-23   56.796799  54.579578  55.430431  54.754753  18256126  54.754753\n",
      "2004-08-24   55.855858  51.836838  55.675674  52.487488  15247337  52.487488\n",
      "2004-08-25   54.054054  51.991993  52.532532  53.053055   9188602  53.053055\n",
      "...                ...        ...        ...        ...       ...        ...\n",
      "2004-12-27   96.746750  94.644646  94.669670  96.051048  12195992  96.051048\n",
      "2004-12-28   96.871872  95.600601  96.151154  96.476479   8283308  96.476479\n",
      "2004-12-29   96.856857  95.985985  95.985985  96.546547   5350844  96.546547\n",
      "2004-12-30   99.214211  96.021019  96.581581  98.898895  11796791  98.898895\n",
      "2004-12-31  100.040039  96.376373  99.714714  96.491493  15321663  96.491493\n",
      "\n",
      "[94 rows x 6 columns]\n"
     ]
    }
   ],
   "source": [
    "# Usage of the Stock Market Data\n",
    "start = dt.datetime(2000, 1, 1) # First of the 5 year increment\n",
    "end = dt.datetime(2005, 1, 1) # Second of the 5 year increment\n",
    "\n",
    "# Selection of 5 stocks to run a base analysis on\n",
    "aapl = web.DataReader('AAPL', 'yahoo', start, end)\n",
    "nvda = web.DataReader('NVDA', 'yahoo', start, end)\n",
    "msft = web.DataReader('MSFT', 'yahoo', start, end)\n",
    "amzn = web.DataReader('AMZN', 'yahoo', start, end)\n",
    "goog = web.DataReader('GOOGL', 'yahoo', start, end)\n",
    "\n",
    "# Print out and determine the given values\n",
    "print(aapl)\n",
    "print(nvda)\n",
    "print(msft)\n",
    "print(amzn)\n",
    "print(goog)"
   ]
  },
  {
   "cell_type": "markdown",
   "metadata": {},
   "source": [
    "## GICS Sector and Market Analysis"
   ]
  },
  {
   "cell_type": "markdown",
   "metadata": {},
   "source": [
    "The GICS sector in economics comes from an understanding that there is methodology for assigning companies and their value to the economic sector that is correlated to its operation of business. There are a total of 11 GICS sector, with their corresponding stocks being a sub-division of each.\n",
    "\n",
    "The sector definitions are as follows:\n",
    "\n",
    "* Energy\n",
    "* Materials\n",
    "* Industrials\n",
    "* Consumer Discretionary\n",
    "* Consumer Staples\n",
    "* Health Care\n",
    "* Financials\n",
    "* Information Technology\n",
    "* Real Estate\n",
    "* Communication Services\n",
    "* Utilities Sector"
   ]
  },
  {
   "cell_type": "markdown",
   "metadata": {},
   "source": [
    "## Stock Analysis of Volatility"
   ]
  },
  {
   "cell_type": "code",
   "execution_count": 14,
   "metadata": {},
   "outputs": [
    {
     "name": "stdout",
     "output_type": "stream",
     "text": [
      "[114 128 189 198 247]\n",
      "5\n"
     ]
    }
   ],
   "source": [
    "# Select an n number of stocks randomly from m given stocks\n",
    "# Can do NASDAQ, NYSE, AMEX\n",
    "# This might be difficult to do, so create a .csv with list of all stocks \n",
    "# Downloaded from NASDAQ\n",
    "# https://www.nasdaq.com/market-activity/stocks/screener?exchange=NASDAQ&render=download\n",
    "num_stock_available = 500 # The total number of stocks (S & P 500)\n",
    "num_stocks = 5 # The number of stocks to select as a 1%\n",
    "x = sp.random.uniform(low=1, high=num_stock_available, size=num_stocks)\n",
    "sp.random.seed(50)\n",
    "y = []\n",
    "for i in range(num_stocks):\n",
    "    y.append(int(x[i]))\n",
    "unique_stocks = np.unique(y)\n",
    "print(unique_stocks)\n",
    "print(len(unique_stocks))\n",
    "\n",
    "# The above is placeholder code for the actual stocks that are going to be used"
   ]
  },
  {
   "cell_type": "code",
   "execution_count": null,
   "metadata": {},
   "outputs": [],
   "source": [
    "# Classify top stocks from 2000 - 2005\n",
    "\n",
    "# Verification into different sectors\n",
    "\n",
    "# Classify top stocks from 2012-2017"
   ]
  }
 ],
 "metadata": {
  "kernelspec": {
   "display_name": "Python 3 (ipykernel)",
   "language": "python",
   "name": "python3"
  },
  "language_info": {
   "codemirror_mode": {
    "name": "ipython",
    "version": 3
   },
   "file_extension": ".py",
   "mimetype": "text/x-python",
   "name": "python",
   "nbconvert_exporter": "python",
   "pygments_lexer": "ipython3",
   "version": "3.9.7"
  }
 },
 "nbformat": 4,
 "nbformat_minor": 4
}
