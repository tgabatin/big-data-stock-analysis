{
 "cells": [
  {
   "cell_type": "markdown",
   "metadata": {},
   "source": [
    "# Prototype Of Stock Sets"
   ]
  },
  {
   "cell_type": "markdown",
   "metadata": {},
   "source": [
    "This notebook will serve as a small analyzing of a set of stocks to determine whether this data is scalable. At a minimum, 5 - 10 stocks are selected, and will be prototyped in order to apply to a larger dataset. \n",
    "\n",
    "The stocks that are chosen for this particular prototype are the top 10 stocks across the years 2010-2020. "
   ]
  },
  {
   "cell_type": "code",
   "execution_count": 5,
   "metadata": {},
   "outputs": [
    {
     "name": "stdout",
     "output_type": "stream",
     "text": [
      "Done importing\n"
     ]
    }
   ],
   "source": [
    "# If you wish to install the modules needed, here are a list of the installations\n",
    "#!pip install pandas\n",
    "#!pip install pandas_datareader\n",
    "\n",
    "# Import Statements\n",
    "import pandas as pd\n",
    "from pandas import DataFrame\n",
    "import pandas_datareader.data as web\n",
    "import numpy as np\n",
    "import scipy as sp\n",
    "import csv\n",
    "\n",
    "# For graphing purposes\n",
    "import math\n",
    "import matplotlib.pyplot as plt\n",
    "import matplotlib.dates as mdates\n",
    "from matplotlib import style\n",
    "%matplotlib inline\n",
    "\n",
    "# For styling\n",
    "import datetime as dt\n",
    "import os\n",
    "\n",
    "# Imports for collections\n",
    "import collections\n",
    "from collections import Counter\n",
    "\n",
    "# Imports for Machine Learning\n",
    "import sklearn\n",
    "from sklearn.model_selection import train_test_split\n",
    "\n",
    "print(\"Done importing\")"
   ]
  },
  {
   "cell_type": "markdown",
   "metadata": {},
   "source": [
    "# Stock Analysis\n",
    "\n",
    "The important segment of understanding stock analysis is to run a regression on the years where no significant events may have caused any problems to arise. An example of this would be years where there may have been political fluctuations where there is a cause for the stock market to be affected. \n",
    "\n",
    "For the purposes of this study, the dates of 2000 - 2005 are analyzed, since no significant event on a sector of the stocks may have been affected. "
   ]
  },
  {
   "cell_type": "code",
   "execution_count": 2,
   "metadata": {},
   "outputs": [
    {
     "name": "stdout",
     "output_type": "stream",
     "text": [
      "                High       Low      Open     Close       Volume  Adj Close\n",
      "Date                                                                      \n",
      "2000-01-03  1.004464  0.907924  0.936384  0.999442  535796800.0   0.856887\n",
      "2000-01-04  0.987723  0.903460  0.966518  0.915179  512377600.0   0.784642\n",
      "2000-01-05  0.987165  0.919643  0.926339  0.928571  778321600.0   0.796124\n",
      "2000-01-06  0.955357  0.848214  0.947545  0.848214  767972800.0   0.727229\n",
      "2000-01-07  0.901786  0.852679  0.861607  0.888393  460734400.0   0.761677\n",
      "...              ...       ...       ...       ...          ...        ...\n",
      "2004-12-27  1.163393  1.122857  1.157143  1.127857  559490400.0   0.966985\n",
      "2004-12-28  1.147321  1.108036  1.130357  1.146071  611755200.0   0.982601\n",
      "2004-12-29  1.160357  1.135179  1.139464  1.150714  449562400.0   0.986582\n",
      "2004-12-30  1.161250  1.146786  1.157321  1.157143  345340800.0   0.992094\n",
      "2004-12-31  1.160714  1.143393  1.158750  1.150000  278588800.0   0.985970\n",
      "\n",
      "[1256 rows x 6 columns]\n",
      "                High       Low      Open     Close      Volume  Adj Close\n",
      "Date                                                                     \n",
      "2000-01-03  2.645833  2.451666  2.625000  2.597500  30091200.0   2.542507\n",
      "2000-01-04  2.562500  2.402500  2.555833  2.520833  29769600.0   2.467464\n",
      "2000-01-05  2.533333  2.413333  2.533333  2.434166  18024000.0   2.382632\n",
      "2000-01-06  2.448333  2.194166  2.442500  2.285000  12009600.0   2.236624\n",
      "2000-01-07  2.350833  2.243333  2.277500  2.326666   6974400.0   2.277407\n",
      "...              ...       ...       ...       ...         ...        ...\n",
      "2004-12-27  7.830000  7.583333  7.796666  7.623333   7649109.0   7.461938\n",
      "2004-12-28  7.700000  7.553333  7.640000  7.583333   7288674.0   7.422785\n",
      "2004-12-29  7.743333  7.540000  7.560000  7.650000   7197864.0   7.488040\n",
      "2004-12-30  7.716666  7.586666  7.653333  7.620000   6380625.0   7.458674\n",
      "2004-12-31  7.893333  7.700000  7.730000  7.853333  14378865.0   7.687068\n",
      "\n",
      "[1256 rows x 6 columns]\n",
      "                 High        Low       Open      Close      Volume  Adj Close\n",
      "Date                                                                         \n",
      "2000-01-03  59.313000  56.000000  58.691715  58.282001  53232200.0  36.905216\n",
      "2000-01-04  58.562500  55.750000  57.937500  55.781250  54081000.0  35.321701\n",
      "2000-01-05  58.188000  54.688000  55.559856  56.907001  64046800.0  36.034550\n",
      "2000-01-06  56.938000  54.188000  56.094833  55.000000  54968200.0  34.826988\n",
      "2000-01-07  56.125000  53.657001  54.311569  55.719002  62013400.0  35.282280\n",
      "...               ...        ...        ...        ...         ...        ...\n",
      "2004-12-27  27.100000  26.820000  27.010000  26.850000  55444583.0  19.116087\n",
      "2004-12-28  27.030001  26.799999  26.840000  26.950001  54548984.0  19.187277\n",
      "2004-12-29  27.000000  26.820000  26.850000  26.900000  47528160.0  19.151676\n",
      "2004-12-30  26.940001  26.749001  26.889999  26.760000  47987799.0  19.052013\n",
      "2004-12-31  26.900000  26.679001  26.750000  26.719999  54230141.0  19.023527\n",
      "\n",
      "[1256 rows x 6 columns]\n",
      "                 High        Low       Open      Close    Volume  Adj Close\n",
      "Date                                                                       \n",
      "2000-01-03  89.562500  79.500000  89.375000  89.375000  16120900  89.375000\n",
      "2000-01-04  91.500000  81.750000  87.468750  82.375000  17467200  82.375000\n",
      "2000-01-05  75.125000  68.000000  70.500000  69.750000  38451400  69.750000\n",
      "2000-01-06  72.687500  63.000000  71.125000  63.000000  18724400  63.000000\n",
      "2000-01-07  70.500000  66.187500  69.000000  69.687500  10425700  69.687500\n",
      "...               ...        ...        ...        ...       ...        ...\n",
      "2004-12-27  42.930000  39.470001  39.520000  42.250000  22168950  42.250000\n",
      "2004-12-28  45.119999  43.500000  43.939999  44.630001  25143902  44.630001\n",
      "2004-12-29  45.680000  44.439999  44.750000  44.820000  11730428  44.820000\n",
      "2004-12-30  45.529999  44.549999  45.000000  44.970001   6926177  44.970001\n",
      "2004-12-31  45.490002  44.160000  45.160000  44.290001   4765335  44.290001\n",
      "\n",
      "[1256 rows x 6 columns]\n",
      "                  High        Low       Open      Close    Volume  Adj Close\n",
      "Date                                                                        \n",
      "2004-08-19   52.080414  48.026489  50.053452  50.216110  44662908  50.216110\n",
      "2004-08-20   54.592846  50.298691  50.789162  54.207474  22778271  54.207474\n",
      "2004-08-23   56.794975  54.577831  55.433659  54.752998  18234539  54.752998\n",
      "2004-08-24   55.854065  51.835175  55.673893  52.485806  15241412  52.485806\n",
      "2004-08-25   54.052322  51.990326  52.530849  53.051353   9130694  53.051353\n",
      "...                ...        ...        ...        ...       ...        ...\n",
      "2004-12-27   96.743645  94.641609  94.666634  96.047974  12176751  96.047974\n",
      "2004-12-28   96.868767  95.597542  96.148071  96.473389   8268488  96.473389\n",
      "2004-12-29   96.853752  95.982910  96.078003  96.543457   5288258  96.543457\n",
      "2004-12-30   99.211037  96.017944  96.578484  98.895729  11766161  98.895729\n",
      "2004-12-31  100.036835  96.373291  99.711517  96.488403  15256363  96.488403\n",
      "\n",
      "[94 rows x 6 columns]\n"
     ]
    }
   ],
   "source": [
    "# Usage of the Stock Market Data\n",
    "start = dt.datetime(2000, 1, 1) # First of the 5 year increment\n",
    "end = dt.datetime(2005, 1, 1) # Second of the 5 year increment\n",
    "\n",
    "# Selection of 5 stocks to run a base analysis on\n",
    "aapl = web.DataReader('AAPL', 'yahoo', start, end)\n",
    "nvda = web.DataReader('NVDA', 'yahoo', start, end)\n",
    "msft = web.DataReader('MSFT', 'yahoo', start, end)\n",
    "amzn = web.DataReader('AMZN', 'yahoo', start, end)\n",
    "goog = web.DataReader('GOOGL', 'yahoo', start, end)\n",
    "\n",
    "# Print out and determine the given values\n",
    "print(aapl)\n",
    "print(nvda)\n",
    "print(msft)\n",
    "print(amzn)\n",
    "print(goog)"
   ]
  },
  {
   "cell_type": "markdown",
   "metadata": {},
   "source": [
    "## GICS Sector and Market Analysis"
   ]
  },
  {
   "cell_type": "markdown",
   "metadata": {},
   "source": [
    "The GICS sector in economics comes from an understanding that there is methodology for assigning companies and their value to the economic sector that is correlated to its operation of business. There are a total of 11 GICS sector, with their corresponding stocks being a sub-division of each.\n",
    "\n",
    "The sector definitions are as follows:\n",
    "\n",
    "* Energy\n",
    "* Materials\n",
    "* Industrials\n",
    "* Consumer Discretionary\n",
    "* Consumer Staples\n",
    "* Health Care\n",
    "* Financials\n",
    "* Information Technology\n",
    "* Real Estate\n",
    "* Communication Services\n",
    "* Utilities Sector"
   ]
  },
  {
   "cell_type": "markdown",
   "metadata": {},
   "source": [
    "## Stock Analysis of Volatility"
   ]
  },
  {
   "cell_type": "code",
   "execution_count": 4,
   "metadata": {},
   "outputs": [],
   "source": [
    "'''\n",
    "This is dedicated to the NASDAQ CSV's and their respective downloads\n",
    "'''\n",
    "# All stocks\n",
    "nasdaq_stocks = pd.read_csv('/Users/taylor/UH_Manoa/ICS_438/Assignments/Final-Project/big-data-stock-analysis/data/nasdaq_all.csv')\n",
    "# Energy\n",
    "energy_nasdaq = pd.read_csv('/Users/taylor/UH_Manoa/ICS_438/Assignments/Final-Project/big-data-stock-analysis/data/nasdaq_energy.csv')\n",
    "# Materials\n",
    "    \n",
    "# Industrials\n",
    "# Consumer Discretionary\n",
    "cons_nasdaq = pd.read_csv('/Users/taylor/UH_Manoa/ICS_438/Assignments/Final-Project/big-data-stock-analysis/data/nasdaq_consumerservices.csv')\n",
    "# Consumer Staples\n",
    "# Health Care\n",
    "health_nasdaq = pd.read_csv('/Users/taylor/UH_Manoa/ICS_438/Assignments/Final-Project/big-data-stock-analysis/data/nasdaq_healthcare.csv')\n",
    "# Financials\n",
    "finance_nasdaq = pd.read_csv('/Users/taylor/UH_Manoa/ICS_438/Assignments/Final-Project/big-data-stock-analysis/data/nasdaq_finance.csv')\n",
    "# Information Technology\n",
    "tech_nasdaq = pd.read_csv('/Users/taylor/UH_Manoa/ICS_438/Assignments/Final-Project/big-data-stock-analysis/data/nasdaq_tech.csv')\n",
    "# Real Estate\n",
    "# Communication Services\n",
    "# Utilities Sector\n",
    "utils_nasdaq = pd.read_csv('/Users/taylor/UH_Manoa/ICS_438/Assignments/Final-Project/big-data-stock-analysis/data/nasdaq_utils.csv')\n",
    "\n",
    "# Store the sectors in a dictionary with a specific bin\n"
   ]
  },
  {
   "cell_type": "code",
   "execution_count": 14,
   "metadata": {},
   "outputs": [
    {
     "name": "stdout",
     "output_type": "stream",
     "text": [
      "[114 128 189 198 247]\n",
      "5\n"
     ]
    }
   ],
   "source": [
    "# Select an n number of stocks randomly from m given stocks\n",
    "# Can do NASDAQ, NYSE, AMEX \n",
    "# Downloaded from NASDAQ\n",
    "# https://www.nasdaq.com/market-activity/stocks/screener?exchange=NASDAQ&render=download\n",
    "num_stock_available = 500 # The total number of stocks (S & P 500)\n",
    "num_stocks = 5 # The number of stocks to select as a 1%\n",
    "x = sp.random.uniform(low=1, high=num_stock_available, size=num_stocks)\n",
    "sp.random.seed(50)\n",
    "y = []\n",
    "for i in range(num_stocks):\n",
    "    y.append(int(x[i]))\n",
    "unique_stocks = np.unique(y)\n",
    "print(unique_stocks)\n",
    "print(len(unique_stocks))\n",
    "\n",
    "# The above is placeholder code for the actual stocks that are going to be used"
   ]
  },
  {
   "cell_type": "code",
   "execution_count": null,
   "metadata": {},
   "outputs": [],
   "source": [
    "# Classify top stocks from 2000 - 2005\n",
    "\n",
    "# Verification into different sectors\n",
    "\n",
    "# Classify top stocks from 2012-2017"
   ]
  }
 ],
 "metadata": {
  "kernelspec": {
   "display_name": "Python 3 (ipykernel)",
   "language": "python",
   "name": "python3"
  },
  "language_info": {
   "codemirror_mode": {
    "name": "ipython",
    "version": 3
   },
   "file_extension": ".py",
   "mimetype": "text/x-python",
   "name": "python",
   "nbconvert_exporter": "python",
   "pygments_lexer": "ipython3",
   "version": "3.9.7"
  }
 },
 "nbformat": 4,
 "nbformat_minor": 4
}
