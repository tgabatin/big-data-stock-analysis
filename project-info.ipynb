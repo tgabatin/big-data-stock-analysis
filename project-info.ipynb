{
 "cells": [
  {
   "cell_type": "markdown",
   "metadata": {},
   "source": [
    "# Big Data Stock Analytics"
   ]
  },
  {
   "cell_type": "markdown",
   "metadata": {},
   "source": [
    "## Introduction\n",
    "\n",
    "This project will implement a big data analytics representation of various sectors of the stock market through an economic analysis of large data obtained from 1996-2020. Various aspects of the stock market provide an influx of information and data, from analysis of P/E ratio, dividends and alternative aspects of portfolio diversification through these attributes of stocks. The ubpredictability of market behavior, from the previous years expedition of GameStop & AMC have been influenced by random investor behavior. This project will predict the values of the attributes of stock data based ond ata obtained from Kaggle, Yahoo Finance, and Google, along with a business perspective in the prediction of variation of the stock market based on this data. Using this implementation will take a different approach on analyzing stock data from a daily perspective of its highs and lows, and instead measure the variability of its attributes. "
   ]
  },
  {
   "cell_type": "markdown",
   "metadata": {},
   "source": [
    "## Infrastructure\n",
    "\n",
    "The primary infrastructure of this project will be using tools to both clean and make predictions on this dataset:\n",
    "\n",
    "* Python\n",
    "    * Python will be the primary method of choice to use when programming the assignment\n",
    "    * When cleaning up larger datasets, Python will be used to discover variables that may not contribute valuable data to the analysis\n",
    "    \n",
    "* Jupyter Notebook\n",
    "    * Jupyter Notebook will be the primary source of data analytics and cleaning. \n",
    "    \n",
    "* Github\n",
    "    * Github will be used for source control within this project\n",
    "    \n",
    "* Spark\n",
    "    * Spark will be primarily used when cleaning up the dataset, as most data obtained may not be in the format desired\n",
    "    * Spark will also be used to directly load data in a .csv or .tsv\n",
    "        * The latter contributes for better data visualiztion and understanding through the cleaning of the large datasets"
   ]
  },
  {
   "cell_type": "markdown",
   "metadata": {},
   "source": [
    "## Data Sources & Field Attributes\n",
    "\n",
    "Field And Attributes of Stocks\n",
    "\n"
   ]
  },
  {
   "cell_type": "markdown",
   "metadata": {},
   "source": [
    "## Technical Analysis vs. Fundamental Analysis\n",
    "\n"
   ]
  },
  {
   "cell_type": "markdown",
   "metadata": {},
   "source": [
    "## Machine Learning Components"
   ]
  },
  {
   "cell_type": "code",
   "execution_count": null,
   "metadata": {},
   "outputs": [],
   "source": []
  }
 ],
 "metadata": {
  "kernelspec": {
   "display_name": "Python 3",
   "language": "python",
   "name": "python3"
  },
  "language_info": {
   "codemirror_mode": {
    "name": "ipython",
    "version": 3
   },
   "file_extension": ".py",
   "mimetype": "text/x-python",
   "name": "python",
   "nbconvert_exporter": "python",
   "pygments_lexer": "ipython3",
   "version": "3.8.5"
  }
 },
 "nbformat": 4,
 "nbformat_minor": 4
}
